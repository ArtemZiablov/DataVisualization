{
 "cells": [
  {
   "cell_type": "code",
   "execution_count": 16,
   "id": "b19d5aa8-0486-491c-ae0f-3889bc92932b",
   "metadata": {},
   "outputs": [],
   "source": [
    "import pandas as pd\n",
    "from random import choices\n",
    "import pprint\n",
    "from collections import Counter"
   ]
  },
  {
   "cell_type": "code",
   "execution_count": null,
   "id": "fe86adaa-74e7-4cd1-bf81-28ee81076ff1",
   "metadata": {},
   "outputs": [],
   "source": [
    "df = pd.read_csv('cities15000.txt', sep='\\t', header=None)\n",
    "\n",
    "EVROPA = [\"AD\", \"AL\", \"AT\", \"AX\", \"BA\", \"BE\", \"BG\", \"BY\", \"CH\", \"CY\", \"CZ\", \"DE\", \"DK\", \"EE\", \"ES\", \"FI\",\n",
    "          \"FO\", \"FR\", \"GB\", \"GG\", \"GI\", \"GR\", \"HR\", \"HU\", \"IE\", \"IM\", \"IS\", \"IT\", \"JE\", \"LI\", \"LT\", \"LU\",\n",
    "          \"LV\", \"MC\", \"MD\", \"ME\", \"MK\", \"MT\", \"NL\", \"NO\", \"PL\", \"PT\", \"RO\", \"RS\", \"SE\", \"SI\", \"SJ\", \"SK\", \"SM\", \"VA\", \"XK\"]\n",
    "\n",
    "df = df[[2, 4, 5, 8, 14, 17]]\n",
    "filtered_df = df[df.iloc[:, 8].isin(EVROPA)]\n",
    "\n",
    "filtered_df"
   ]
  },
  {
   "cell_type": "code",
   "execution_count": 17,
   "id": "16fa721c-1a31-4a14-a461-1fca6786aeae",
   "metadata": {},
   "outputs": [
    {
     "name": "stdout",
     "output_type": "stream",
     "text": [
      "Mokotow: 217683\n",
      "Bucharest: 1877155\n",
      "Lomza: 63723\n",
      "Wroclaw: 634893\n",
      "Pristina: 550000\n",
      "Florence: 367150\n",
      "Rome: 2318895\n",
      "Osnabrueck: 166462\n",
      "London: 8961989\n",
      "Dundee: 148210\n",
      "Torre del Greco: 85332\n",
      "Gallarate: 50439\n",
      "Dudley: 199059\n",
      "Edmonton: 82000\n",
      "Legionowo: 50786\n",
      "Amsterdam: 741636\n",
      "Huyton: 54738\n",
      "Bucharest: 1877155\n",
      "Arnhem: 141674\n",
      "Marienthal: 287101\n",
      "\n",
      "Duplicates found:\n",
      "Bucharest was selected 2 times.\n"
     ]
    }
   ],
   "source": [
    "filtered_df = df[df['code'].isin(EVROPA)]\n",
    "filtered_df = filtered_df[filtered_df['pop'] >= 50000]\n",
    "\n",
    "\n",
    "filtered_df.reset_index(drop=True, inplace=True)\n",
    "filtered_df.insert(0, 'feature_count', range(1, len(filtered_df) + 1))\n",
    "# filtered_df.to_csv('filtered.csv', index=True)\n",
    "\n",
    "for city in selected_cities:\n",
    "    city_pop = filtered_df.loc[filtered_df['name'] == city, 'pop'].values[0]\n",
    "    print(f\"{city}: {city_pop}\")\n",
    "\n",
    "city_counts = Counter(selected_cities)\n",
    "duplicates = {city: count for city, count in city_counts.items() if count > 1}\n",
    "\n",
    "if duplicates:\n",
    "    print(\"\\nDuplicates found:\")\n",
    "    for city, count in duplicates.items():\n",
    "        print(f\"{city} was selected {count} times.\")\n",
    "else:\n",
    "    print(\"\\nNo duplicates found.\")"
   ]
  }
 ],
 "metadata": {
  "kernelspec": {
   "display_name": "Python 3 (ipykernel)",
   "language": "python",
   "name": "python3"
  },
  "language_info": {
   "codemirror_mode": {
    "name": "ipython",
    "version": 3
   },
   "file_extension": ".py",
   "mimetype": "text/x-python",
   "name": "python",
   "nbconvert_exporter": "python",
   "pygments_lexer": "ipython3",
   "version": "3.12.6"
  }
 },
 "nbformat": 4,
 "nbformat_minor": 5
}
