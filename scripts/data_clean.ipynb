{
 "cells": [
  {
   "cell_type": "code",
   "execution_count": 89,
   "id": "edb5ae64-df65-470f-86b0-b874cfbedc97",
   "metadata": {},
   "outputs": [],
   "source": [
    "import pandas as pd\n",
    "from random import choices"
   ]
  },
  {
   "cell_type": "code",
   "execution_count": 90,
   "id": "8993f000-1e95-4d42-91cd-e046fb38cdc6",
   "metadata": {},
   "outputs": [],
   "source": [
    "df = pd.read_csv('final.csv')\n",
    "dfu = pd.read_csv('download_ua.csv')"
   ]
  },
  {
   "cell_type": "code",
   "execution_count": 91,
   "id": "6f44fe79-7c06-482d-9a18-1c9432260a14",
   "metadata": {},
   "outputs": [],
   "source": [
    "dfu['dob.date'] = pd.to_datetime(dfu['dob.date']).dt.strftime('%m/%d/%Y')\n",
    "dfu['avatar'] = dfu['name.first'].str[0]\n",
    "dfu['code'] = 'UA'\n",
    "dfu['timezone'] = 'Europe/Kyiv'"
   ]
  },
  {
   "cell_type": "code",
   "execution_count": null,
   "id": "77f64061-c335-4d89-804d-a36357dfe9b9",
   "metadata": {},
   "outputs": [],
   "source": [
    "cities = pd.read_csv('cities15000.txt', delimiter='\\t', header=None,\n",
    "                     names=[\"geonameid\", \"name\", \"asciiname\", \"alternatenames\", \"latitude\", \"longitude\", \"feature\", \"feature2\", \"country\", \"cc2\", \"admin1\", \"admin2\", \"admin3\", \"admin4\", \"population\", \"elevation\", \"dem\", \"timezone\", \"modification\"])\n",
    "cities = cities[cities['timezone'] == 'Europe/Kyiv']\n",
    "cities = cities.drop(columns=[\"geonameid\", \"name\", \"alternatenames\", \"feature\", \"feature2\", \"country\",\n",
    "                     \"cc2\", \"admin1\", \"admin2\", \"admin3\", \"admin4\", \"elevation\", \"dem\", \"timezone\", \"modification\"])\n",
    "cities.rename(columns={\"asciiname\": \"name\"}, inplace=True)\n",
    "cities = cities[cities[\"population\"] >= 40000].reset_index(drop=True)\n",
    "dfu['city'] = choices(\n",
    "    cities[\"name\"], weights=cities[\"population\"].tolist(), k=len(dfu))\n",
    "dfu.to_csv('download_ua.csv')"
   ]
  },
  {
   "cell_type": "code",
   "execution_count": 102,
   "id": "60635a6e-4608-4fd8-b3f7-6ee9247a7761",
   "metadata": {},
   "outputs": [],
   "source": [
    "dfu = dfu.merge(cities[['name', 'latitude', 'longitude']], left_on='city', right_on='name', how='left')\n",
    "dfu.rename(columns={'latitude': 'lat', 'longitude': 'lon'}, inplace=True)\n",
    "dfu.drop(columns=['name'], inplace=True)\n",
    "dfu.to_csv('download_ua.csv')"
   ]
  }
 ],
 "metadata": {
  "kernelspec": {
   "display_name": "Python 3 (ipykernel)",
   "language": "python",
   "name": "python3"
  },
  "language_info": {
   "codemirror_mode": {
    "name": "ipython",
    "version": 3
   },
   "file_extension": ".py",
   "mimetype": "text/x-python",
   "name": "python",
   "nbconvert_exporter": "python",
   "pygments_lexer": "ipython3",
   "version": "3.12.6"
  }
 },
 "nbformat": 4,
 "nbformat_minor": 5
}
